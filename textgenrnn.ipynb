{
 "cells": [
  {
   "cell_type": "markdown",
   "metadata": {},
   "source": [
    "# Text generation with recurrent neural networks\n",
    "\n",
    "The following notebook uses Max Woolf's textgenrnn library to train text-generating neural networks trained from any text dataset. "
   ]
  },
  {
   "cell_type": "markdown",
   "metadata": {},
   "source": [
    "The extra bit of boiler-plate makes certain that you are running the pip version associated with the current Python kernel, so that the installed packages can be used in the current notebook"
   ]
  },
  {
   "cell_type": "code",
   "execution_count": 3,
   "metadata": {
    "scrolled": false
   },
   "outputs": [
    {
     "name": "stdout",
     "output_type": "stream",
     "text": [
      "Collecting textgenrnn\n",
      "\u001b[?25l  Downloading https://files.pythonhosted.org/packages/ad/f8/f1968b2078a9076f481916fba5d98affa019943e4f5764224ffaeb57b7c7/textgenrnn-1.4.1.tar.gz (1.7MB)\n",
      "\u001b[K    100% |████████████████████████████████| 1.7MB 19.9MB/s ta 0:00:01    76% |████████████████████████▍       | 1.3MB 35.3MB/s eta 0:00:01\n",
      "\u001b[?25hRequirement already satisfied: keras>=2.1.5 in /home/ec2-user/anaconda3/envs/tensorflow_p36/lib/python3.6/site-packages (from textgenrnn) (2.2.2)\n",
      "Requirement already satisfied: h5py in /home/ec2-user/anaconda3/envs/tensorflow_p36/lib/python3.6/site-packages (from textgenrnn) (2.8.0)\n",
      "Requirement already satisfied: scikit-learn in /home/ec2-user/anaconda3/envs/tensorflow_p36/lib/python3.6/site-packages (from textgenrnn) (0.19.1)\n",
      "Requirement already satisfied: scipy>=0.14 in /home/ec2-user/anaconda3/envs/tensorflow_p36/lib/python3.6/site-packages (from keras>=2.1.5->textgenrnn) (1.1.0)\n",
      "Requirement already satisfied: pyyaml in /home/ec2-user/anaconda3/envs/tensorflow_p36/lib/python3.6/site-packages (from keras>=2.1.5->textgenrnn) (3.12)\n",
      "Requirement already satisfied: six>=1.9.0 in /home/ec2-user/anaconda3/envs/tensorflow_p36/lib/python3.6/site-packages (from keras>=2.1.5->textgenrnn) (1.11.0)\n",
      "Requirement already satisfied: numpy>=1.9.1 in /home/ec2-user/anaconda3/envs/tensorflow_p36/lib/python3.6/site-packages (from keras>=2.1.5->textgenrnn) (1.14.5)\n",
      "Requirement already satisfied: keras-preprocessing==1.0.2 in /home/ec2-user/anaconda3/envs/tensorflow_p36/lib/python3.6/site-packages (from keras>=2.1.5->textgenrnn) (1.0.2)\n",
      "Requirement already satisfied: keras-applications==1.0.4 in /home/ec2-user/anaconda3/envs/tensorflow_p36/lib/python3.6/site-packages (from keras>=2.1.5->textgenrnn) (1.0.4)\n",
      "Building wheels for collected packages: textgenrnn\n",
      "  Running setup.py bdist_wheel for textgenrnn ... \u001b[?25ldone\n",
      "\u001b[?25h  Stored in directory: /home/ec2-user/.cache/pip/wheels/30/96/f7/bc7042ea671bc79455c244af21050a7a32d604fe2f7a44e322\n",
      "Successfully built textgenrnn\n",
      "Installing collected packages: textgenrnn\n",
      "Successfully installed textgenrnn-1.4.1\n",
      "\u001b[33mYou are using pip version 10.0.1, however version 18.1 is available.\n",
      "You should consider upgrading via the 'pip install --upgrade pip' command.\u001b[0m\n"
     ]
    },
    {
     "name": "stderr",
     "output_type": "stream",
     "text": [
      "Using TensorFlow backend.\n"
     ]
    }
   ],
   "source": [
    "import sys\n",
    "!{sys.executable} -m pip install textgenrnn\n",
    "from textgenrnn import textgenrnn"
   ]
  },
  {
   "cell_type": "markdown",
   "metadata": {},
   "source": [
    "## Training the model\n",
    "First we load the library, then create the textgen model. The neural network is trained from an input .txt file. We can set the number of training epochs, whether the RNN is trained at the character or word level and the maximum length of the output. "
   ]
  },
  {
   "cell_type": "code",
   "execution_count": 14,
   "metadata": {
    "scrolled": false
   },
   "outputs": [
    {
     "name": "stdout",
     "output_type": "stream",
     "text": [
      "59,714 texts collected.\n",
      "Training new model w/ 2-layer, 128-cell LSTMs\n",
      "Training on 581,036 word sequences.\n",
      "Epoch 1/5\n",
      "4539/4539 [==============================] - 1468s 323ms/step - loss: 5.6495\n",
      "####################\n",
      "Temperature: 0.2\n",
      "####################\n",
      "the 10 best moments from the\n",
      "\n",
      "the 10 best moments from the\n",
      "\n",
      "the 17 most important moments from \" the \"\n",
      "\n",
      "####################\n",
      "Temperature: 0.5\n",
      "####################\n",
      "obama administration over obamas - time\n",
      "\n",
      "the - year of the\n",
      "\n",
      "the 12 best moments from the\n",
      "\n",
      "####################\n",
      "Temperature: 1.0\n",
      "####################\n",
      "the 21 most inspiring actor they were famous\n",
      "\n",
      "the super bowl plastic figure k - of money\n",
      "\n",
      "this is what your must -\n",
      "\n",
      "Epoch 2/5\n",
      "4539/4539 [==============================] - 3181s 701ms/step - loss: 4.8897\n",
      "####################\n",
      "Temperature: 0.2\n",
      "####################\n",
      "the most fab and drab celebrity outfits of the week\n",
      "\n",
      "the most fab and drab celebrity outfits of the week\n",
      "\n",
      "the most fab and drab celebrity outfits of the week\n",
      "\n",
      "####################\n",
      "Temperature: 0.5\n",
      "####################\n",
      "the best of the\n",
      "\n",
      "50 incredible halloween costumes you have missed at\n",
      "\n",
      "why the is the\n",
      "\n",
      "####################\n",
      "Temperature: 1.0\n",
      "####################\n",
      "22 things every book about food that will blow then &\n",
      "\n",
      "kevin hart of herself for a front pages of his\n",
      "\n",
      "match song is a kiss and clever halloween\n",
      "\n",
      "Epoch 3/5\n",
      "4539/4539 [==============================] - 3088s 680ms/step - loss: 4.5925\n",
      "####################\n",
      "Temperature: 0.2\n",
      "####################\n",
      "the most fab and drab celebrity outfits of the week\n",
      "\n",
      "the most fab and drab celebrity outfits of the week\n",
      "\n",
      "the most fab and drab celebrity outfits of the week\n",
      "\n",
      "####################\n",
      "Temperature: 0.5\n",
      "####################\n",
      "the best of the internets response to the\n",
      "\n",
      "the most adorable cat of all time\n",
      "\n",
      "the most important pugs of all time\n",
      "\n",
      "####################\n",
      "Temperature: 1.0\n",
      "####################\n",
      "15 best expressions of 2014 that you should wish had found %\n",
      "\n",
      "obama shows text to be the\n",
      "\n",
      "what is working to be if the loves ?\n",
      "\n",
      "Epoch 4/5\n",
      "4539/4539 [==============================] - 3006s 662ms/step - loss: 4.3487\n",
      "####################\n",
      "Temperature: 0.2\n",
      "####################\n",
      "the most fab and drab celebrity looks of the week\n",
      "\n",
      "the best of the internets response to the\n",
      "\n",
      "the most fab and drab celebrity looks of the week\n",
      "\n",
      "####################\n",
      "Temperature: 0.5\n",
      "####################\n",
      "the 15 most ridiculous moments in the world\n",
      "\n",
      "this is what the cast of \" the godfather looks like now\n",
      "\n",
      "the best response to the\n",
      "\n",
      "####################\n",
      "Temperature: 1.0\n",
      "####################\n",
      "the houston astros are definitely heartbreaking\n",
      "\n",
      "who is shia labeouf looking on ?\n",
      "\n",
      "16 quotes that prove san francisco is\n",
      "\n",
      "Epoch 5/5\n",
      "4539/4539 [==============================] - 3001s 661ms/step - loss: 4.0981\n",
      "####################\n",
      "Temperature: 0.2\n",
      "####################\n",
      "the 15 most important things about the new \" doctor who \"\n",
      "\n",
      "the best of the internets response to the\n",
      "\n",
      "the best of the internets response to the\n",
      "\n",
      "####################\n",
      "Temperature: 0.5\n",
      "####################\n",
      "the most fab and drab celebrity outfits of the week\n",
      "\n",
      "the best of the internets reaction to the\n",
      "\n",
      "the best gifs of nfl week 12 :\n",
      "\n",
      "####################\n",
      "Temperature: 1.0\n",
      "####################\n",
      "ikea ads attack just fails to mystery of on twitter\n",
      "\n",
      "beyoncã© has turn scientists face into a single real life with a match for the\n",
      "\n",
      "how to use rights with delicious 7 of\n",
      "\n"
     ]
    }
   ],
   "source": [
    "textgen = textgenrnn()\n",
    "textgen.train_from_file('clickbait.txt'\n",
    "                        ,num_epochs=5\n",
    "                        ,is_csv = True\n",
    "                        ,new_model = True\n",
    "                        ,word_level = True\n",
    "                        ,max_length = 12\n",
    "                       )\n"
   ]
  },
  {
   "cell_type": "markdown",
   "metadata": {},
   "source": [
    "## Loading the model after training\n",
    "After training, the neural network weights are saved as an .hdf5 file, and the config and vocab files are saved as .json files."
   ]
  },
  {
   "cell_type": "code",
   "execution_count": 4,
   "metadata": {
    "scrolled": true
   },
   "outputs": [],
   "source": [
    "textgen = textgenrnn(weights_path ='textgenrnn_weights.hdf5',\n",
    "                     config_path = 'textgenrnn_config.json',\n",
    "                     vocab_path = 'textgenrnn_vocab.json')"
   ]
  },
  {
   "cell_type": "markdown",
   "metadata": {},
   "source": [
    "## Running the model to generate new text\n",
    "We can set the number of text examples to generate. The temperature controls the 'creativity' of the model. Higher values will result in more diversity in the results, but also more mistakes. A more detailed explanation of temperature in LTSMs can be found [here](https://cs.stackexchange.com/questions/79241/what-is-temperature-in-lstm-and-neural-networks-generally)."
   ]
  },
  {
   "cell_type": "code",
   "execution_count": 13,
   "metadata": {},
   "outputs": [
    {
     "name": "stdout",
     "output_type": "stream",
     "text": [
      "the best man in the history of\n",
      "\n",
      "the 17 most awkward moments of justin timberlake\n",
      "\n",
      "marvels alex character is engaged to this days of\n",
      "\n",
      "new york school board reveal\n",
      "\n",
      "the best way to turn your friend off your\n",
      "\n",
      "the definitive ranking of\n",
      "\n",
      "23 accessories for your\n",
      "\n",
      "21 things everyone who dont know in public\n",
      "\n",
      "what does the world ?\n",
      "\n",
      "27 diy ways to get a\n",
      "\n",
      "the white house is the parody of\n",
      "\n",
      "the 30 most important things that happened at the 2013 mtv emas\n",
      "\n",
      "house rules to keep fundraising\n",
      "\n",
      "ann romney : a story of his energy over a\n",
      "\n",
      "heres the first photo of the \" sherlock \"\n",
      "\n",
      "this is the most important twin video of the largest tree gay law\n",
      "\n",
      "a tribute to the\n",
      "\n",
      "the 13 most important things about the internet has you smile\n",
      "\n",
      "how not to get a the feels\n",
      "\n",
      "23 ways to make out of\n",
      "\n"
     ]
    }
   ],
   "source": [
    "textgen.generate(20, temperature = 0.7)"
   ]
  }
 ],
 "metadata": {
  "kernelspec": {
   "display_name": "conda_tensorflow_p36",
   "language": "python",
   "name": "conda_tensorflow_p36"
  },
  "language_info": {
   "codemirror_mode": {
    "name": "ipython",
    "version": 3
   },
   "file_extension": ".py",
   "mimetype": "text/x-python",
   "name": "python",
   "nbconvert_exporter": "python",
   "pygments_lexer": "ipython3",
   "version": "3.6.5"
  }
 },
 "nbformat": 4,
 "nbformat_minor": 2
}
